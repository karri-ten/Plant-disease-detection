{
  "cells": [
    {
      "cell_type": "markdown",
      "metadata": {
        "id": "view-in-github",
        "colab_type": "text"
      },
      "source": [
        "<a href=\"https://colab.research.google.com/github/karri-ten/Plant-disease-detection/blob/main/Plant_Disease_Detection_v2.ipynb\" target=\"_parent\"><img src=\"https://colab.research.google.com/assets/colab-badge.svg\" alt=\"Open In Colab\"/></a>"
      ]
    },
    {
      "cell_type": "markdown",
      "id": "edb77e54",
      "metadata": {
        "id": "edb77e54"
      },
      "source": [
        "# 🌿 Plant Disease Detection Using PyTorch and EfficientNet"
      ]
    },
    {
      "cell_type": "code",
      "execution_count": null,
      "id": "21d90319",
      "metadata": {
        "id": "21d90319"
      },
      "outputs": [],
      "source": [
        "# ✅ Mount Google Drive (optional)"
      ]
    },
    {
      "cell_type": "code",
      "execution_count": 1,
      "id": "4af71b00",
      "metadata": {
        "colab": {
          "base_uri": "https://localhost:8080/"
        },
        "id": "4af71b00",
        "outputId": "f4c18af2-5388-4552-eebd-f5dcc27b22da"
      },
      "outputs": [
        {
          "output_type": "stream",
          "name": "stdout",
          "text": [
            "Mounted at /content/drive\n"
          ]
        }
      ],
      "source": [
        "from google.colab import drive\n",
        "drive.mount('/content/drive')"
      ]
    },
    {
      "cell_type": "code",
      "execution_count": null,
      "id": "6f957d16",
      "metadata": {
        "id": "6f957d16"
      },
      "outputs": [],
      "source": [
        "# ✅ Enable GPU"
      ]
    },
    {
      "cell_type": "code",
      "execution_count": 2,
      "id": "6670bd34",
      "metadata": {
        "colab": {
          "base_uri": "https://localhost:8080/"
        },
        "id": "6670bd34",
        "outputId": "766727ef-7284-45eb-9cfe-88b77ab555ad"
      },
      "outputs": [
        {
          "output_type": "stream",
          "name": "stdout",
          "text": [
            "Using device: cuda\n"
          ]
        }
      ],
      "source": [
        "import torch\n",
        "device = torch.device(\"cuda\" if torch.cuda.is_available() else \"cpu\")\n",
        "print(\"Using device:\", device)"
      ]
    },
    {
      "cell_type": "code",
      "execution_count": 3,
      "id": "d45bdc7a",
      "metadata": {
        "id": "d45bdc7a"
      },
      "outputs": [],
      "source": [
        "# ✅ Install Required Libraries (if needed)"
      ]
    },
    {
      "cell_type": "code",
      "execution_count": 4,
      "id": "9fa6d15f",
      "metadata": {
        "colab": {
          "base_uri": "https://localhost:8080/",
          "height": 90
        },
        "id": "9fa6d15f",
        "outputId": "036ecd11-75e5-4bde-f9ed-257cfbe9dc9c"
      },
      "outputs": [
        {
          "output_type": "display_data",
          "data": {
            "text/plain": [
              "<IPython.core.display.HTML object>"
            ],
            "text/html": [
              "\n",
              "     <input type=\"file\" id=\"files-d7beadf1-af81-405f-86a2-304b860d6471\" name=\"files[]\" multiple disabled\n",
              "        style=\"border:none\" />\n",
              "     <output id=\"result-d7beadf1-af81-405f-86a2-304b860d6471\">\n",
              "      Upload widget is only available when the cell has been executed in the\n",
              "      current browser session. Please rerun this cell to enable.\n",
              "      </output>\n",
              "      <script>// Copyright 2017 Google LLC\n",
              "//\n",
              "// Licensed under the Apache License, Version 2.0 (the \"License\");\n",
              "// you may not use this file except in compliance with the License.\n",
              "// You may obtain a copy of the License at\n",
              "//\n",
              "//      http://www.apache.org/licenses/LICENSE-2.0\n",
              "//\n",
              "// Unless required by applicable law or agreed to in writing, software\n",
              "// distributed under the License is distributed on an \"AS IS\" BASIS,\n",
              "// WITHOUT WARRANTIES OR CONDITIONS OF ANY KIND, either express or implied.\n",
              "// See the License for the specific language governing permissions and\n",
              "// limitations under the License.\n",
              "\n",
              "/**\n",
              " * @fileoverview Helpers for google.colab Python module.\n",
              " */\n",
              "(function(scope) {\n",
              "function span(text, styleAttributes = {}) {\n",
              "  const element = document.createElement('span');\n",
              "  element.textContent = text;\n",
              "  for (const key of Object.keys(styleAttributes)) {\n",
              "    element.style[key] = styleAttributes[key];\n",
              "  }\n",
              "  return element;\n",
              "}\n",
              "\n",
              "// Max number of bytes which will be uploaded at a time.\n",
              "const MAX_PAYLOAD_SIZE = 100 * 1024;\n",
              "\n",
              "function _uploadFiles(inputId, outputId) {\n",
              "  const steps = uploadFilesStep(inputId, outputId);\n",
              "  const outputElement = document.getElementById(outputId);\n",
              "  // Cache steps on the outputElement to make it available for the next call\n",
              "  // to uploadFilesContinue from Python.\n",
              "  outputElement.steps = steps;\n",
              "\n",
              "  return _uploadFilesContinue(outputId);\n",
              "}\n",
              "\n",
              "// This is roughly an async generator (not supported in the browser yet),\n",
              "// where there are multiple asynchronous steps and the Python side is going\n",
              "// to poll for completion of each step.\n",
              "// This uses a Promise to block the python side on completion of each step,\n",
              "// then passes the result of the previous step as the input to the next step.\n",
              "function _uploadFilesContinue(outputId) {\n",
              "  const outputElement = document.getElementById(outputId);\n",
              "  const steps = outputElement.steps;\n",
              "\n",
              "  const next = steps.next(outputElement.lastPromiseValue);\n",
              "  return Promise.resolve(next.value.promise).then((value) => {\n",
              "    // Cache the last promise value to make it available to the next\n",
              "    // step of the generator.\n",
              "    outputElement.lastPromiseValue = value;\n",
              "    return next.value.response;\n",
              "  });\n",
              "}\n",
              "\n",
              "/**\n",
              " * Generator function which is called between each async step of the upload\n",
              " * process.\n",
              " * @param {string} inputId Element ID of the input file picker element.\n",
              " * @param {string} outputId Element ID of the output display.\n",
              " * @return {!Iterable<!Object>} Iterable of next steps.\n",
              " */\n",
              "function* uploadFilesStep(inputId, outputId) {\n",
              "  const inputElement = document.getElementById(inputId);\n",
              "  inputElement.disabled = false;\n",
              "\n",
              "  const outputElement = document.getElementById(outputId);\n",
              "  outputElement.innerHTML = '';\n",
              "\n",
              "  const pickedPromise = new Promise((resolve) => {\n",
              "    inputElement.addEventListener('change', (e) => {\n",
              "      resolve(e.target.files);\n",
              "    });\n",
              "  });\n",
              "\n",
              "  const cancel = document.createElement('button');\n",
              "  inputElement.parentElement.appendChild(cancel);\n",
              "  cancel.textContent = 'Cancel upload';\n",
              "  const cancelPromise = new Promise((resolve) => {\n",
              "    cancel.onclick = () => {\n",
              "      resolve(null);\n",
              "    };\n",
              "  });\n",
              "\n",
              "  // Wait for the user to pick the files.\n",
              "  const files = yield {\n",
              "    promise: Promise.race([pickedPromise, cancelPromise]),\n",
              "    response: {\n",
              "      action: 'starting',\n",
              "    }\n",
              "  };\n",
              "\n",
              "  cancel.remove();\n",
              "\n",
              "  // Disable the input element since further picks are not allowed.\n",
              "  inputElement.disabled = true;\n",
              "\n",
              "  if (!files) {\n",
              "    return {\n",
              "      response: {\n",
              "        action: 'complete',\n",
              "      }\n",
              "    };\n",
              "  }\n",
              "\n",
              "  for (const file of files) {\n",
              "    const li = document.createElement('li');\n",
              "    li.append(span(file.name, {fontWeight: 'bold'}));\n",
              "    li.append(span(\n",
              "        `(${file.type || 'n/a'}) - ${file.size} bytes, ` +\n",
              "        `last modified: ${\n",
              "            file.lastModifiedDate ? file.lastModifiedDate.toLocaleDateString() :\n",
              "                                    'n/a'} - `));\n",
              "    const percent = span('0% done');\n",
              "    li.appendChild(percent);\n",
              "\n",
              "    outputElement.appendChild(li);\n",
              "\n",
              "    const fileDataPromise = new Promise((resolve) => {\n",
              "      const reader = new FileReader();\n",
              "      reader.onload = (e) => {\n",
              "        resolve(e.target.result);\n",
              "      };\n",
              "      reader.readAsArrayBuffer(file);\n",
              "    });\n",
              "    // Wait for the data to be ready.\n",
              "    let fileData = yield {\n",
              "      promise: fileDataPromise,\n",
              "      response: {\n",
              "        action: 'continue',\n",
              "      }\n",
              "    };\n",
              "\n",
              "    // Use a chunked sending to avoid message size limits. See b/62115660.\n",
              "    let position = 0;\n",
              "    do {\n",
              "      const length = Math.min(fileData.byteLength - position, MAX_PAYLOAD_SIZE);\n",
              "      const chunk = new Uint8Array(fileData, position, length);\n",
              "      position += length;\n",
              "\n",
              "      const base64 = btoa(String.fromCharCode.apply(null, chunk));\n",
              "      yield {\n",
              "        response: {\n",
              "          action: 'append',\n",
              "          file: file.name,\n",
              "          data: base64,\n",
              "        },\n",
              "      };\n",
              "\n",
              "      let percentDone = fileData.byteLength === 0 ?\n",
              "          100 :\n",
              "          Math.round((position / fileData.byteLength) * 100);\n",
              "      percent.textContent = `${percentDone}% done`;\n",
              "\n",
              "    } while (position < fileData.byteLength);\n",
              "  }\n",
              "\n",
              "  // All done.\n",
              "  yield {\n",
              "    response: {\n",
              "      action: 'complete',\n",
              "    }\n",
              "  };\n",
              "}\n",
              "\n",
              "scope.google = scope.google || {};\n",
              "scope.google.colab = scope.google.colab || {};\n",
              "scope.google.colab._files = {\n",
              "  _uploadFiles,\n",
              "  _uploadFilesContinue,\n",
              "};\n",
              "})(self);\n",
              "</script> "
            ]
          },
          "metadata": {}
        },
        {
          "output_type": "stream",
          "name": "stdout",
          "text": [
            "Saving kaggle.json to kaggle.json\n"
          ]
        },
        {
          "output_type": "execute_result",
          "data": {
            "text/plain": [
              "{'kaggle.json': b'{\"username\":\"teniolakareemat\",\"key\":\"0a3af859538a3c98ede653ca6231f13a\"}'}"
            ]
          },
          "metadata": {},
          "execution_count": 4
        }
      ],
      "source": [
        "!pip install -q kaggle\n",
        "from google.colab import files\n",
        "files.upload()  # Upload kaggle.json"
      ]
    },
    {
      "cell_type": "code",
      "execution_count": null,
      "id": "9242a541",
      "metadata": {
        "id": "9242a541"
      },
      "outputs": [],
      "source": [
        "# ✅ Set up Kaggle credentials"
      ]
    },
    {
      "cell_type": "code",
      "execution_count": 6,
      "id": "acf69b32",
      "metadata": {
        "colab": {
          "base_uri": "https://localhost:8080/"
        },
        "id": "acf69b32",
        "outputId": "ca053ac7-1335-44bb-ed5f-b22f175d8df5"
      },
      "outputs": [
        {
          "output_type": "stream",
          "name": "stdout",
          "text": [
            "mkdir: cannot create directory ‘/root/.kaggle’: File exists\n"
          ]
        }
      ],
      "source": [
        "!mkdir ~/.kaggle\n",
        "!cp kaggle.json ~/.kaggle/\n",
        "!chmod 600 ~/.kaggle/kaggle.json"
      ]
    },
    {
      "cell_type": "code",
      "execution_count": null,
      "id": "92464e53",
      "metadata": {
        "id": "92464e53"
      },
      "outputs": [],
      "source": [
        "# ✅ Download and unzip the dataset"
      ]
    },
    {
      "cell_type": "code",
      "execution_count": 7,
      "id": "025c05b5",
      "metadata": {
        "colab": {
          "base_uri": "https://localhost:8080/"
        },
        "id": "025c05b5",
        "outputId": "55ca6d00-d52d-46fd-a246-1d5a6661878d"
      },
      "outputs": [
        {
          "output_type": "stream",
          "name": "stdout",
          "text": [
            "Dataset URL: https://www.kaggle.com/datasets/abdallahalidev/plantvillage-dataset\n",
            "License(s): CC-BY-NC-SA-4.0\n",
            "Downloading plantvillage-dataset.zip to /content\n",
            " 99% 2.01G/2.04G [00:10<00:00, 234MB/s]\n",
            "100% 2.04G/2.04G [00:10<00:00, 211MB/s]\n"
          ]
        }
      ],
      "source": [
        "!kaggle datasets download -d abdallahalidev/plantvillage-dataset\n",
        "!unzip -q plantvillage-dataset.zip -d ./data"
      ]
    },
    {
      "cell_type": "code",
      "execution_count": null,
      "id": "f65268d9",
      "metadata": {
        "id": "f65268d9"
      },
      "outputs": [],
      "source": [
        "# ✅ Check contents of the dataset"
      ]
    },
    {
      "cell_type": "code",
      "execution_count": 8,
      "id": "9689f7a6",
      "metadata": {
        "colab": {
          "base_uri": "https://localhost:8080/"
        },
        "id": "9689f7a6",
        "outputId": "defe2b67-b2dc-415d-c46d-c2ddaeecea1b"
      },
      "outputs": [
        {
          "output_type": "stream",
          "name": "stdout",
          "text": [
            "['color', 'grayscale', 'segmented']\n",
            "['Pepper,_bell___healthy', 'Potato___Early_blight', 'Tomato___Spider_mites Two-spotted_spider_mite', 'Tomato___Target_Spot', 'Tomato___Tomato_mosaic_virus', 'Tomato___Late_blight', 'Tomato___healthy', 'Cherry_(including_sour)___healthy', 'Grape___Black_rot', 'Peach___Bacterial_spot', 'Blueberry___healthy', 'Apple___Apple_scab', 'Tomato___Leaf_Mold', 'Apple___healthy', 'Apple___Cedar_apple_rust', 'Strawberry___Leaf_scorch', 'Orange___Haunglongbing_(Citrus_greening)', 'Tomato___Early_blight', 'Peach___healthy', 'Grape___healthy', 'Corn_(maize)___Northern_Leaf_Blight', 'Grape___Leaf_blight_(Isariopsis_Leaf_Spot)', 'Tomato___Tomato_Yellow_Leaf_Curl_Virus', 'Potato___healthy', 'Soybean___healthy', 'Squash___Powdery_mildew', 'Tomato___Bacterial_spot', 'Corn_(maize)___Common_rust_', 'Corn_(maize)___healthy', 'Corn_(maize)___Cercospora_leaf_spot Gray_leaf_spot', 'Cherry_(including_sour)___Powdery_mildew', 'Strawberry___healthy', 'Pepper,_bell___Bacterial_spot', 'Grape___Esca_(Black_Measles)', 'Apple___Black_rot', 'Potato___Late_blight', 'Tomato___Septoria_leaf_spot', 'Raspberry___healthy']\n"
          ]
        }
      ],
      "source": [
        "import os\n",
        "print(os.listdir('./data/plantvillage dataset/'))\n",
        "print(os.listdir('./data/plantvillage dataset/color/'))"
      ]
    },
    {
      "cell_type": "code",
      "execution_count": null,
      "id": "a2b6004e",
      "metadata": {
        "id": "a2b6004e"
      },
      "outputs": [],
      "source": [
        "# ✅ Set up DataLoaders from 'color' folder"
      ]
    },
    {
      "cell_type": "code",
      "execution_count": 10,
      "id": "a05879e3",
      "metadata": {
        "id": "a05879e3"
      },
      "outputs": [],
      "source": [
        "from torchvision import transforms, datasets\n",
        "from torch.utils.data import DataLoader\n",
        "\n",
        "IMG_SIZE = 224\n",
        "BATCH_SIZE = 32\n",
        "\n",
        "train_transforms = transforms.Compose([\n",
        "    transforms.Resize((IMG_SIZE, IMG_SIZE)),\n",
        "    transforms.RandomHorizontalFlip(),\n",
        "    transforms.ToTensor(),\n",
        "    transforms.Normalize([0.485, 0.456, 0.406], [0.229, 0.224, 0.225])\n",
        "])\n",
        "\n",
        "val_transforms = transforms.Compose([\n",
        "    transforms.Resize((IMG_SIZE, IMG_SIZE)),\n",
        "    transforms.ToTensor(),\n",
        "    transforms.Normalize([0.485, 0.456, 0.406], [0.229, 0.224, 0.225])\n",
        "])\n",
        "\n",
        "data_dir = './data/plantvillage dataset/color'\n",
        "dataset = datasets.ImageFolder(data_dir, transform=train_transforms)\n",
        "train_size = int(0.8 * len(dataset))\n",
        "val_size = len(dataset) - train_size\n",
        "train_dataset, val_dataset = torch.utils.data.random_split(dataset, [train_size, val_size])\n",
        "\n",
        "train_loader = DataLoader(train_dataset, batch_size=BATCH_SIZE, shuffle=True)\n",
        "val_loader = DataLoader(val_dataset, batch_size=BATCH_SIZE, shuffle=False)"
      ]
    },
    {
      "cell_type": "code",
      "execution_count": null,
      "id": "a15560db",
      "metadata": {
        "id": "a15560db"
      },
      "outputs": [],
      "source": [
        "# ✅ Load Pretrained Model (EfficientNet)"
      ]
    },
    {
      "cell_type": "code",
      "execution_count": 11,
      "id": "ea5b9352",
      "metadata": {
        "colab": {
          "base_uri": "https://localhost:8080/"
        },
        "id": "ea5b9352",
        "outputId": "6666e98c-4b3a-4d74-9ddf-816d05876a20"
      },
      "outputs": [
        {
          "output_type": "stream",
          "name": "stderr",
          "text": [
            "/usr/local/lib/python3.11/dist-packages/torchvision/models/_utils.py:208: UserWarning: The parameter 'pretrained' is deprecated since 0.13 and may be removed in the future, please use 'weights' instead.\n",
            "  warnings.warn(\n",
            "/usr/local/lib/python3.11/dist-packages/torchvision/models/_utils.py:223: UserWarning: Arguments other than a weight enum or `None` for 'weights' are deprecated since 0.13 and may be removed in the future. The current behavior is equivalent to passing `weights=EfficientNet_B0_Weights.IMAGENET1K_V1`. You can also use `weights=EfficientNet_B0_Weights.DEFAULT` to get the most up-to-date weights.\n",
            "  warnings.warn(msg)\n",
            "Downloading: \"https://download.pytorch.org/models/efficientnet_b0_rwightman-7f5810bc.pth\" to /root/.cache/torch/hub/checkpoints/efficientnet_b0_rwightman-7f5810bc.pth\n",
            "100%|██████████| 20.5M/20.5M [00:00<00:00, 99.0MB/s]\n"
          ]
        }
      ],
      "source": [
        "from torchvision import models\n",
        "import torch.nn as nn\n",
        "\n",
        "model = models.efficientnet_b0(pretrained=True)\n",
        "model.classifier[1] = nn.Linear(model.classifier[1].in_features, len(dataset.classes))\n",
        "model = model.to(device)"
      ]
    },
    {
      "cell_type": "code",
      "execution_count": null,
      "id": "e752cd60",
      "metadata": {
        "id": "e752cd60"
      },
      "outputs": [],
      "source": [
        "# ✅ Define Loss and Optimizer"
      ]
    },
    {
      "cell_type": "code",
      "execution_count": 12,
      "id": "824e5d07",
      "metadata": {
        "id": "824e5d07"
      },
      "outputs": [],
      "source": [
        "import torch.optim as optim\n",
        "\n",
        "criterion = nn.CrossEntropyLoss()\n",
        "optimizer = optim.Adam(model.parameters(), lr=1e-4)"
      ]
    },
    {
      "cell_type": "code",
      "execution_count": null,
      "id": "20ea7c66",
      "metadata": {
        "id": "20ea7c66"
      },
      "outputs": [],
      "source": [
        "# ✅ Training and Evaluation Functions"
      ]
    },
    {
      "cell_type": "code",
      "execution_count": 13,
      "id": "1ab0fc73",
      "metadata": {
        "id": "1ab0fc73"
      },
      "outputs": [],
      "source": [
        "def train_model(model, train_loader, val_loader, epochs=10):\n",
        "    for epoch in range(epochs):\n",
        "        model.train()\n",
        "        running_loss, correct = 0.0, 0\n",
        "        for images, labels in train_loader:\n",
        "            images, labels = images.to(device), labels.to(device)\n",
        "            optimizer.zero_grad()\n",
        "            outputs = model(images)\n",
        "            loss = criterion(outputs, labels)\n",
        "            loss.backward()\n",
        "            optimizer.step()\n",
        "            running_loss += loss.item()\n",
        "            correct += (outputs.argmax(1) == labels).sum().item()\n",
        "        val_acc = evaluate(model, val_loader)\n",
        "        print(f\"Epoch {epoch+1}: Loss={running_loss:.3f}, Train Acc={correct/len(train_loader.dataset):.3f}, Val Acc={val_acc:.3f}\")\n",
        "\n",
        "def evaluate(model, loader):\n",
        "    model.eval()\n",
        "    correct = 0\n",
        "    with torch.no_grad():\n",
        "        for images, labels in loader:\n",
        "            images, labels = images.to(device), labels.to(device)\n",
        "            outputs = model(images)\n",
        "            correct += (outputs.argmax(1) == labels).sum().item()\n",
        "    return correct / len(loader.dataset)"
      ]
    },
    {
      "cell_type": "code",
      "execution_count": 14,
      "id": "e20cf3d9",
      "metadata": {
        "id": "e20cf3d9"
      },
      "outputs": [],
      "source": [
        "# ✅ Save and Load the Model"
      ]
    },
    {
      "cell_type": "code",
      "execution_count": 15,
      "id": "45c441da",
      "metadata": {
        "id": "45c441da"
      },
      "outputs": [],
      "source": [
        "torch.save(model.state_dict(), '/content/drive/MyDrive/plant_disease_model.pth')\n",
        "# model.load_state_dict(torch.load('/content/drive/MyDrive/plant_disease_model.pth'))\n",
        "# model.to(device)\n",
        "# model.eval()"
      ]
    },
    {
      "cell_type": "code",
      "execution_count": null,
      "id": "1d3aa51d",
      "metadata": {
        "id": "1d3aa51d"
      },
      "outputs": [],
      "source": [
        "# ✅ Prediction Function"
      ]
    },
    {
      "cell_type": "code",
      "execution_count": 16,
      "id": "bb4a4a25",
      "metadata": {
        "id": "bb4a4a25"
      },
      "outputs": [],
      "source": [
        "from PIL import Image\n",
        "def predict(image_path, model):\n",
        "    image = Image.open(image_path).convert(\"RGB\")\n",
        "    image = val_transforms(image).unsqueeze(0).to(device)\n",
        "    model.eval()\n",
        "    with torch.no_grad():\n",
        "        output = model(image)\n",
        "        pred = output.argmax(1).item()\n",
        "    return dataset.classes[pred]"
      ]
    },
    {
      "cell_type": "code",
      "execution_count": 18,
      "id": "3b898093",
      "metadata": {
        "colab": {
          "base_uri": "https://localhost:8080/"
        },
        "id": "3b898093",
        "outputId": "65a1c5d8-0924-4b75-b774-6e9f3be23b6a"
      },
      "outputs": [
        {
          "output_type": "stream",
          "name": "stdout",
          "text": [
            "Requirement already satisfied: onnx in /usr/local/lib/python3.11/dist-packages (1.18.0)\n",
            "Requirement already satisfied: numpy>=1.22 in /usr/local/lib/python3.11/dist-packages (from onnx) (2.0.2)\n",
            "Requirement already satisfied: protobuf>=4.25.1 in /usr/local/lib/python3.11/dist-packages (from onnx) (5.29.5)\n",
            "Requirement already satisfied: typing_extensions>=4.7.1 in /usr/local/lib/python3.11/dist-packages (from onnx) (4.14.1)\n"
          ]
        }
      ],
      "source": [
        "# ✅ Export to ONNX\n",
        "!pip3 install onnx"
      ]
    },
    {
      "cell_type": "code",
      "execution_count": 19,
      "id": "849795ed",
      "metadata": {
        "id": "849795ed"
      },
      "outputs": [],
      "source": [
        "dummy_input = torch.randn(1, 3, IMG_SIZE, IMG_SIZE).to(device)\n",
        "torch.onnx.export(model, dummy_input, \"plant_disease.onnx\", input_names=[\"input\"], output_names=[\"output\"], opset_version=11)"
      ]
    },
    {
      "cell_type": "code",
      "execution_count": null,
      "id": "c90e35df",
      "metadata": {
        "id": "c90e35df"
      },
      "outputs": [],
      "source": [
        "# ✅ Styled Gradio Interface"
      ]
    },
    {
      "cell_type": "code",
      "execution_count": null,
      "id": "a81e77a5",
      "metadata": {
        "colab": {
          "base_uri": "https://localhost:8080/",
          "height": 646
        },
        "id": "a81e77a5",
        "outputId": "fce18700-22ca-4149-d7cc-e071b6b1db74"
      },
      "outputs": [
        {
          "output_type": "stream",
          "name": "stdout",
          "text": [
            "It looks like you are running Gradio on a hosted Jupyter notebook, which requires `share=True`. Automatically setting `share=True` (you can turn this off by setting `share=False` in `launch()` explicitly).\n",
            "\n",
            "Colab notebook detected. This cell will run indefinitely so that you can see errors and logs. To turn off, set debug=False in launch().\n",
            "* Running on public URL: https://f4b8efd733a57717a3.gradio.live\n",
            "\n",
            "This share link expires in 1 week. For free permanent hosting and GPU upgrades, run `gradio deploy` from the terminal in the working directory to deploy to Hugging Face Spaces (https://huggingface.co/spaces)\n"
          ]
        },
        {
          "output_type": "display_data",
          "data": {
            "text/plain": [
              "<IPython.core.display.HTML object>"
            ],
            "text/html": [
              "<div><iframe src=\"https://f4b8efd733a57717a3.gradio.live\" width=\"100%\" height=\"500\" allow=\"autoplay; camera; microphone; clipboard-read; clipboard-write;\" frameborder=\"0\" allowfullscreen></iframe></div>"
            ]
          },
          "metadata": {}
        }
      ],
      "source": [
        "import gradio as gr\n",
        "def gradio_predict(img):\n",
        "    img = img.convert(\"RGB\")\n",
        "    image_tensor = val_transforms(img).unsqueeze(0).to(device)\n",
        "    model.eval()\n",
        "    with torch.no_grad():\n",
        "        output = model(image_tensor)\n",
        "        pred = output.argmax(1).item()\n",
        "    return dataset.classes[pred]\n",
        "\n",
        "custom_css = '''\n",
        "#component-0 {\n",
        "    border: 4px solid #4CAF50 !important;\n",
        "    border-radius: 10px !important;\n",
        "    padding: 20px !important;\n",
        "    background-color: #f9fff9 !important;\n",
        "}\n",
        "h1, .output_class {\n",
        "    color: #2E7D32 !important;\n",
        "    font-family: 'Segoe UI', sans-serif;\n",
        "}\n",
        "button {\n",
        "    background-color: #4CAF50 !important;\n",
        "    color: white !important;\n",
        "    font-weight: bold !important;\n",
        "    border-radius: 8px !important;\n",
        "}\n",
        "'''\n",
        "\n",
        "with gr.Blocks(css=custom_css) as demo:\n",
        "    gr.Markdown(\"# 🌿 Plant Disease Detector\")\n",
        "    gr.Markdown(\"Upload a plant leaf image below to detect disease.\")\n",
        "    with gr.Row():\n",
        "        image_input = gr.Image(type=\"pil\", label=\"Upload Leaf Image\")\n",
        "        output_label = gr.Label(label=\"Prediction\")\n",
        "    submit_btn = gr.Button(\"Detect Disease\")\n",
        "    submit_btn.click(fn=gradio_predict, inputs=image_input, outputs=output_label)\n",
        "demo.launch(debug=True)"
      ]
    },
    {
      "cell_type": "code",
      "source": [],
      "metadata": {
        "id": "EIEWrgrOgRhH"
      },
      "id": "EIEWrgrOgRhH",
      "execution_count": null,
      "outputs": []
    }
  ],
  "metadata": {
    "colab": {
      "provenance": [],
      "gpuType": "T4",
      "include_colab_link": true
    },
    "accelerator": "GPU",
    "language_info": {
      "name": "python"
    },
    "kernelspec": {
      "name": "python3",
      "display_name": "Python 3"
    }
  },
  "nbformat": 4,
  "nbformat_minor": 5
}